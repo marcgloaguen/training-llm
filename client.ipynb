{
 "cells": [
  {
   "metadata": {
    "ExecuteTime": {
     "end_time": "2024-08-17T10:21:13.817519Z",
     "start_time": "2024-08-17T10:21:13.443887Z"
    }
   },
   "cell_type": "code",
   "source": "from langserve import RemoteRunnable",
   "id": "c0209eef13e91e49",
   "outputs": [],
   "execution_count": 1
  },
  {
   "metadata": {
    "ExecuteTime": {
     "end_time": "2024-08-17T10:21:14.599632Z",
     "start_time": "2024-08-17T10:21:14.557329Z"
    }
   },
   "cell_type": "code",
   "source": "remote_chain = RemoteRunnable(\"http://localhost:8000/translate_italian/\")",
   "id": "a87d87631071d39f",
   "outputs": [],
   "execution_count": 2
  },
  {
   "cell_type": "code",
   "id": "initial_id",
   "metadata": {
    "collapsed": true,
    "ExecuteTime": {
     "end_time": "2024-08-17T10:21:28.731685Z",
     "start_time": "2024-08-17T10:21:21.941746Z"
    }
   },
   "source": "remote_chain.invoke({\"text\": \"hi\"})",
   "outputs": [
    {
     "data": {
      "text/plain": [
       "'Ciao!'"
      ]
     },
     "execution_count": 3,
     "metadata": {},
     "output_type": "execute_result"
    }
   ],
   "execution_count": 3
  }
 ],
 "metadata": {
  "kernelspec": {
   "display_name": "Python 3",
   "language": "python",
   "name": "python3"
  },
  "language_info": {
   "codemirror_mode": {
    "name": "ipython",
    "version": 2
   },
   "file_extension": ".py",
   "mimetype": "text/x-python",
   "name": "python",
   "nbconvert_exporter": "python",
   "pygments_lexer": "ipython2",
   "version": "2.7.6"
  }
 },
 "nbformat": 4,
 "nbformat_minor": 5
}
