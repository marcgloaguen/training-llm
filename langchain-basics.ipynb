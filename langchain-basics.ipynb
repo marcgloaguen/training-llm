{
 "cells": [
  {
   "cell_type": "code",
   "id": "initial_id",
   "metadata": {
    "collapsed": true,
    "ExecuteTime": {
     "end_time": "2024-08-17T09:38:13.886657Z",
     "start_time": "2024-08-17T09:38:13.878975Z"
    }
   },
   "source": [
    "import os\n",
    "from dotenv import load_dotenv\n",
    "load_dotenv() #Pour import le .env avec les APIKeys dans l'env.\n",
    "from IPython.display import Markdown #pour print un str au format Markdown (très utile pour les réponses des LLM\n"
   ],
   "outputs": [],
   "execution_count": 1
  },
  {
   "metadata": {
    "ExecuteTime": {
     "end_time": "2024-08-17T09:38:14.182836Z",
     "start_time": "2024-08-17T09:38:13.887620Z"
    }
   },
   "cell_type": "code",
   "source": [
    "from langchain_community.chat_models import ChatOllama\n",
    "from langchain_core.output_parsers import StrOutputParser\n",
    "from langchain_core.prompts import ChatPromptTemplate"
   ],
   "id": "950b963b38670f3b",
   "outputs": [],
   "execution_count": 2
  },
  {
   "metadata": {
    "ExecuteTime": {
     "end_time": "2024-08-16T10:10:58.660083Z",
     "start_time": "2024-08-16T10:10:58.657681Z"
    }
   },
   "cell_type": "code",
   "source": "ollama = ChatOllama(model=\"llama3:8b\")",
   "id": "6aa8ea4e66a66004",
   "outputs": [],
   "execution_count": 9
  },
  {
   "metadata": {
    "ExecuteTime": {
     "end_time": "2024-08-16T10:10:58.663215Z",
     "start_time": "2024-08-16T10:10:58.661397Z"
    }
   },
   "cell_type": "code",
   "source": "message = \"Comment dire au revoir en mandarin\"",
   "id": "4647648ab2f48f22",
   "outputs": [],
   "execution_count": 10
  },
  {
   "metadata": {
    "ExecuteTime": {
     "end_time": "2024-08-16T10:11:10.307387Z",
     "start_time": "2024-08-16T10:10:58.671504Z"
    }
   },
   "cell_type": "code",
   "source": "response = ollama.invoke(message)",
   "id": "48d74577b7f00bff",
   "outputs": [],
   "execution_count": 11
  },
  {
   "metadata": {
    "ExecuteTime": {
     "end_time": "2024-08-16T10:11:10.314660Z",
     "start_time": "2024-08-16T10:11:10.308700Z"
    }
   },
   "cell_type": "code",
   "source": "response",
   "id": "926d0388c0922b67",
   "outputs": [
    {
     "data": {
      "text/plain": [
       "AIMessage(content='Au revoir en mandarin ! Il existe plusieurs façons de dire \"au revoir\" en mandarin, selon le niveau de formnalité et la situation. Voici quelques-unes des plus courantes :\\n\\n* (zài jiàn) : ce est une façon informelle de dire \"au revoir\", qui signifie littéralement \"rester sain\".\\n* (zài jiàn le) : c\\'est une variante de l\\'expression ci-dessus, utilisée pour exprimer un sentiment plus formel ou respectueux.\\n* (zhàoyì shēng zhōu) : ce est une façon plus formelle et polie de dire \"au revoir\", qui signifie littéralement \"rester en bonne santé\".\\n* (gǎn xiè, zài jiàn) : cette phrase combine les sentiments d\\'expression de gratitude et d\\'adieu, ce qui peut être utile pour exprimer votre reconnaissance envers quelqu\\'un avant de vous séparer.\\n\\nIl est important de noter que le mandarin est une langue tonale, donc la prononciation des mots dépendra du contexte et de la situation dans laquelle ils sont utilisés.', response_metadata={'model': 'llama3:8b', 'created_at': '2024-08-16T10:11:10.29161Z', 'message': {'role': 'assistant', 'content': ''}, 'done_reason': 'stop', 'done': True, 'total_duration': 11615010084, 'load_duration': 6836631875, 'prompt_eval_count': 18, 'prompt_eval_duration': 97405000, 'eval_count': 253, 'eval_duration': 4680041000}, id='run-98c0daa8-1d27-41cd-8db4-8e95f798d6d2-0')"
      ]
     },
     "execution_count": 12,
     "metadata": {},
     "output_type": "execute_result"
    }
   ],
   "execution_count": 12
  },
  {
   "metadata": {
    "ExecuteTime": {
     "end_time": "2024-08-16T10:11:10.317451Z",
     "start_time": "2024-08-16T10:11:10.315610Z"
    }
   },
   "cell_type": "code",
   "source": "parser = StrOutputParser()",
   "id": "9dbe013595dd733d",
   "outputs": [],
   "execution_count": 13
  },
  {
   "metadata": {
    "ExecuteTime": {
     "end_time": "2024-08-16T10:11:10.324662Z",
     "start_time": "2024-08-16T10:11:10.319019Z"
    }
   },
   "cell_type": "code",
   "source": "Markdown(parser.invoke(response)) # Markdown(response.content) ",
   "id": "70dc5ab1ff0be423",
   "outputs": [
    {
     "data": {
      "text/plain": [
       "<IPython.core.display.Markdown object>"
      ],
      "text/markdown": "Au revoir en mandarin ! Il existe plusieurs façons de dire \"au revoir\" en mandarin, selon le niveau de formnalité et la situation. Voici quelques-unes des plus courantes :\n\n* (zài jiàn) : ce est une façon informelle de dire \"au revoir\", qui signifie littéralement \"rester sain\".\n* (zài jiàn le) : c'est une variante de l'expression ci-dessus, utilisée pour exprimer un sentiment plus formel ou respectueux.\n* (zhàoyì shēng zhōu) : ce est une façon plus formelle et polie de dire \"au revoir\", qui signifie littéralement \"rester en bonne santé\".\n* (gǎn xiè, zài jiàn) : cette phrase combine les sentiments d'expression de gratitude et d'adieu, ce qui peut être utile pour exprimer votre reconnaissance envers quelqu'un avant de vous séparer.\n\nIl est important de noter que le mandarin est une langue tonale, donc la prononciation des mots dépendra du contexte et de la situation dans laquelle ils sont utilisés."
     },
     "execution_count": 14,
     "metadata": {},
     "output_type": "execute_result"
    }
   ],
   "execution_count": 14
  },
  {
   "metadata": {
    "ExecuteTime": {
     "end_time": "2024-08-16T10:11:10.327394Z",
     "start_time": "2024-08-16T10:11:10.325586Z"
    }
   },
   "cell_type": "code",
   "source": "chain = ollama | parser # create chain : model + parser (éxécution dans l'ordre de définition)",
   "id": "5b9cdb7d09e8ddab",
   "outputs": [],
   "execution_count": 15
  },
  {
   "metadata": {
    "ExecuteTime": {
     "end_time": "2024-08-16T10:11:17.772125Z",
     "start_time": "2024-08-16T10:11:10.328085Z"
    }
   },
   "cell_type": "code",
   "source": "Markdown(chain.invoke(message))",
   "id": "2e5f7b22a392b9a9",
   "outputs": [
    {
     "data": {
      "text/plain": [
       "<IPython.core.display.Markdown object>"
      ],
      "text/markdown": "In Mandarin Chinese, there are several ways to say \"goodbye\" depending on the time of day and the level of formality. Here are some common phrases:\n\n**Formal Goodbyes**\n\n1. (zài jiàn) - This is a formal way to say goodbye, similar to saying \"goodbye\" in English.\n2. (zài jiàn bù huì) - This phrase adds a polite touch and means \"goodbye, I won't see you again soon.\"\n\n**Informal Goodbyes**\n\n1. (zǎo le) - This is an informal way to say goodbye, often used with friends or in casual settings.\n2. (zhà nǐ) - This phrase is also informal and can be translated to \"see you later\" or \"take care.\"\n\n**Goodbyes Depending on the Time of Day**\n\n1. (zǎo ān) - Good morning, goodbye!\n2. (xià wǔ zhù nǐ) - Good afternoon, goodbye! (literally \"afternoon, take care\")\n3. (wǎn ān) - Good evening, goodbye!\n\n**Additional Tips**\n\n* When parting ways with someone you respect or are leaving their home, it's common to use the phrase (zài jiàn bù huì) as a sign of respect.\n* If you're unsure which phrase to use, (zài jiàn) is always a safe bet.\n* In some regions, people may use different phrases or variations on these phrases.\n\nRemember that in Chinese culture, it's customary to bow when saying goodbye as a sign of respect. A slight bow or nod can go a long way in showing politeness!"
     },
     "execution_count": 16,
     "metadata": {},
     "output_type": "execute_result"
    }
   ],
   "execution_count": 16
  },
  {
   "metadata": {
    "ExecuteTime": {
     "end_time": "2024-08-16T10:11:17.775772Z",
     "start_time": "2024-08-16T10:11:17.773352Z"
    }
   },
   "cell_type": "code",
   "source": "system_template = \"Translate the following into {language}:\"",
   "id": "8201d098c81bdcd3",
   "outputs": [],
   "execution_count": 17
  },
  {
   "metadata": {
    "ExecuteTime": {
     "end_time": "2024-08-16T10:11:17.779582Z",
     "start_time": "2024-08-16T10:11:17.777058Z"
    }
   },
   "cell_type": "code",
   "source": [
    "prompt_template = ChatPromptTemplate.from_messages(\n",
    "    [(\"system\", system_template), (\"user\", \"{text}\")]\n",
    ")"
   ],
   "id": "d8b8602b5d4086fb",
   "outputs": [],
   "execution_count": 18
  },
  {
   "metadata": {
    "ExecuteTime": {
     "end_time": "2024-08-16T10:11:17.786901Z",
     "start_time": "2024-08-16T10:11:17.780665Z"
    }
   },
   "cell_type": "code",
   "source": [
    "result = prompt_template.invoke({\"language\": \"italian\", \"text\": \"hi\"})\n",
    "result"
   ],
   "id": "54d899f1b62c36b4",
   "outputs": [
    {
     "data": {
      "text/plain": [
       "ChatPromptValue(messages=[SystemMessage(content='Translate the following into italian:'), HumanMessage(content='hi')])"
      ]
     },
     "execution_count": 19,
     "metadata": {},
     "output_type": "execute_result"
    }
   ],
   "execution_count": 19
  },
  {
   "metadata": {
    "ExecuteTime": {
     "end_time": "2024-08-16T10:11:17.791733Z",
     "start_time": "2024-08-16T10:11:17.789118Z"
    }
   },
   "cell_type": "code",
   "source": "result.to_messages()",
   "id": "2b85a0e92dc27797",
   "outputs": [
    {
     "data": {
      "text/plain": [
       "[SystemMessage(content='Translate the following into italian:'),\n",
       " HumanMessage(content='hi')]"
      ]
     },
     "execution_count": 20,
     "metadata": {},
     "output_type": "execute_result"
    }
   ],
   "execution_count": 20
  },
  {
   "metadata": {
    "ExecuteTime": {
     "end_time": "2024-08-16T10:11:17.794464Z",
     "start_time": "2024-08-16T10:11:17.792703Z"
    }
   },
   "cell_type": "code",
   "source": "chain = prompt_template | ollama | parser",
   "id": "2cf8aeb806491c02",
   "outputs": [],
   "execution_count": 21
  },
  {
   "metadata": {
    "ExecuteTime": {
     "end_time": "2024-08-16T10:11:19.457537Z",
     "start_time": "2024-08-16T10:11:17.795163Z"
    }
   },
   "cell_type": "code",
   "source": "traduction = chain.invoke({\"language\": \"italian\", \"text\": \"hi\"})",
   "id": "ffc54dc77c0c7982",
   "outputs": [],
   "execution_count": 22
  },
  {
   "metadata": {
    "ExecuteTime": {
     "end_time": "2024-08-16T10:11:19.460378Z",
     "start_time": "2024-08-16T10:11:19.458132Z"
    }
   },
   "cell_type": "code",
   "source": "Markdown(traduction)",
   "id": "eabb883da17bf0ca",
   "outputs": [
    {
     "data": {
      "text/plain": [
       "<IPython.core.display.Markdown object>"
      ],
      "text/markdown": "Ciao! (Note: \"Hi\" is often translated to \"Ciao!\" in Italian, which is a more informal greeting. If you want a more formal greeting, you can use \"Buongiorno!\" (Good morning!), \"Buona sera!\" (Good evening!), or \"Salve!\" (Hello!).)"
     },
     "execution_count": 23,
     "metadata": {},
     "output_type": "execute_result"
    }
   ],
   "execution_count": 23
  }
 ],
 "metadata": {
  "kernelspec": {
   "display_name": "Python 3",
   "language": "python",
   "name": "python3"
  },
  "language_info": {
   "codemirror_mode": {
    "name": "ipython",
    "version": 2
   },
   "file_extension": ".py",
   "mimetype": "text/x-python",
   "name": "python",
   "nbconvert_exporter": "python",
   "pygments_lexer": "ipython2",
   "version": "2.7.6"
  }
 },
 "nbformat": 4,
 "nbformat_minor": 5
}
